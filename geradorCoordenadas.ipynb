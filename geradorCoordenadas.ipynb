{
 "cells": [
  {
   "cell_type": "code",
   "execution_count": 1,
   "id": "efe1ac39",
   "metadata": {},
   "outputs": [],
   "source": [
    "# Bibliotecas Usadas\n",
    "import random\n",
    "import pandas as pd\n",
    "import numpy as np"
   ]
  },
  {
   "cell_type": "code",
   "execution_count": 2,
   "id": "e22af7fc",
   "metadata": {},
   "outputs": [
    {
     "name": "stdout",
     "output_type": "stream",
     "text": [
      "Número de Coordenadas: 200\n"
     ]
    }
   ],
   "source": [
    "# Número de Coordenadas a serem Produzidas\n",
    "n = int(input(\"Número de Coordenadas: \"))"
   ]
  },
  {
   "cell_type": "code",
   "execution_count": 3,
   "id": "7479b55d",
   "metadata": {},
   "outputs": [],
   "source": [
    "# Gerador de Coordenadas\n",
    "latitude = []\n",
    "longitude = []\n",
    "\n",
    "for i in range(n):\n",
    "    lat = random.uniform(-90, 90)\n",
    "    long = random.uniform(-180, 180)\n",
    "    \n",
    "    latitude.append(f\"{lat:.4f}\")\n",
    "    longitude.append(f\"{long:.4f}\")"
   ]
  },
  {
   "cell_type": "code",
   "execution_count": 4,
   "id": "1e842431",
   "metadata": {},
   "outputs": [],
   "source": [
    "# Salvando em Dataframe\n",
    "data = {'Latitude': latitude, 'Longitude': longitude}\n",
    "\n",
    "df = pd.DataFrame(data)\n",
    "df.index = np.arange(1, len(df)+1)"
   ]
  },
  {
   "cell_type": "code",
   "execution_count": 5,
   "id": "6d109d18",
   "metadata": {},
   "outputs": [
    {
     "data": {
      "text/html": [
       "<div>\n",
       "<style scoped>\n",
       "    .dataframe tbody tr th:only-of-type {\n",
       "        vertical-align: middle;\n",
       "    }\n",
       "\n",
       "    .dataframe tbody tr th {\n",
       "        vertical-align: top;\n",
       "    }\n",
       "\n",
       "    .dataframe thead th {\n",
       "        text-align: right;\n",
       "    }\n",
       "</style>\n",
       "<table border=\"1\" class=\"dataframe\">\n",
       "  <thead>\n",
       "    <tr style=\"text-align: right;\">\n",
       "      <th></th>\n",
       "      <th>Latitude</th>\n",
       "      <th>Longitude</th>\n",
       "    </tr>\n",
       "  </thead>\n",
       "  <tbody>\n",
       "    <tr>\n",
       "      <th>1</th>\n",
       "      <td>-36.4212</td>\n",
       "      <td>27.1109</td>\n",
       "    </tr>\n",
       "    <tr>\n",
       "      <th>2</th>\n",
       "      <td>19.5641</td>\n",
       "      <td>87.6743</td>\n",
       "    </tr>\n",
       "    <tr>\n",
       "      <th>3</th>\n",
       "      <td>27.4717</td>\n",
       "      <td>-70.8396</td>\n",
       "    </tr>\n",
       "    <tr>\n",
       "      <th>4</th>\n",
       "      <td>-21.2051</td>\n",
       "      <td>70.3702</td>\n",
       "    </tr>\n",
       "    <tr>\n",
       "      <th>5</th>\n",
       "      <td>33.0804</td>\n",
       "      <td>118.6814</td>\n",
       "    </tr>\n",
       "    <tr>\n",
       "      <th>...</th>\n",
       "      <td>...</td>\n",
       "      <td>...</td>\n",
       "    </tr>\n",
       "    <tr>\n",
       "      <th>196</th>\n",
       "      <td>-20.8381</td>\n",
       "      <td>9.2009</td>\n",
       "    </tr>\n",
       "    <tr>\n",
       "      <th>197</th>\n",
       "      <td>-31.4614</td>\n",
       "      <td>150.3651</td>\n",
       "    </tr>\n",
       "    <tr>\n",
       "      <th>198</th>\n",
       "      <td>7.7835</td>\n",
       "      <td>151.5145</td>\n",
       "    </tr>\n",
       "    <tr>\n",
       "      <th>199</th>\n",
       "      <td>-87.9335</td>\n",
       "      <td>179.9682</td>\n",
       "    </tr>\n",
       "    <tr>\n",
       "      <th>200</th>\n",
       "      <td>-61.4072</td>\n",
       "      <td>-101.4089</td>\n",
       "    </tr>\n",
       "  </tbody>\n",
       "</table>\n",
       "<p>200 rows × 2 columns</p>\n",
       "</div>"
      ],
      "text/plain": [
       "     Latitude  Longitude\n",
       "1    -36.4212    27.1109\n",
       "2     19.5641    87.6743\n",
       "3     27.4717   -70.8396\n",
       "4    -21.2051    70.3702\n",
       "5     33.0804   118.6814\n",
       "..        ...        ...\n",
       "196  -20.8381     9.2009\n",
       "197  -31.4614   150.3651\n",
       "198    7.7835   151.5145\n",
       "199  -87.9335   179.9682\n",
       "200  -61.4072  -101.4089\n",
       "\n",
       "[200 rows x 2 columns]"
      ]
     },
     "execution_count": 5,
     "metadata": {},
     "output_type": "execute_result"
    }
   ],
   "source": [
    "# Print do Dataframe\n",
    "df"
   ]
  },
  {
   "cell_type": "code",
   "execution_count": 6,
   "id": "311913df",
   "metadata": {},
   "outputs": [
    {
     "name": "stdout",
     "output_type": "stream",
     "text": [
      "DataFrame foi salvo com sucesso!\n"
     ]
    }
   ],
   "source": [
    "# Salvando em arquivo Excel\n",
    "df.to_excel(r'Planilhas/Coordenadas Geradas.xlsx', index=False)\n",
    "print('DataFrame foi salvo com sucesso!')"
   ]
  }
 ],
 "metadata": {
  "kernelspec": {
   "display_name": "Python 3",
   "language": "python",
   "name": "python3"
  },
  "language_info": {
   "codemirror_mode": {
    "name": "ipython",
    "version": 3
   },
   "file_extension": ".py",
   "mimetype": "text/x-python",
   "name": "python",
   "nbconvert_exporter": "python",
   "pygments_lexer": "ipython3",
   "version": "3.8.8rc1"
  }
 },
 "nbformat": 4,
 "nbformat_minor": 5
}
